{
 "cells": [
  {
   "cell_type": "markdown",
   "id": "f7bc0284",
   "metadata": {},
   "source": [
    "# 3. Model Training"
   ]
  },
  {
   "cell_type": "markdown",
   "id": "7e6d5176",
   "metadata": {},
   "source": [
    "Models:\n",
    "- Deep Neural Network (DNN)\n",
    "- Convolutional Neural Network (CNN)\n",
    "- Long Short-Term Memory (LSTM)\n",
    "- Convolutional Long Short-Term Memory (CLSTM)\n",
    "- Transformer Encoder (TE)"
   ]
  },
  {
   "cell_type": "markdown",
   "id": "72ac4932",
   "metadata": {},
   "source": []
  }
 ],
 "metadata": {
  "language_info": {
   "name": "python"
  }
 },
 "nbformat": 4,
 "nbformat_minor": 5
}
