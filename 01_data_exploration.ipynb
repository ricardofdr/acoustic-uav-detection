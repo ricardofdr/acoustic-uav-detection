{
 "cells": [
  {
   "cell_type": "markdown",
   "id": "85f8e7fc",
   "metadata": {},
   "source": [
    "# 1. Data exploration\n",
    "\n",
    "## Summary\n",
    "This notebook focuses on the initial analysis of the raw acoustic data used for the UAV detection datasets.\n",
    "\n",
    "To-do list:\n",
    "- Inspection of the dataset composition (number of samples, duration, labels);\n",
    "- Visualization of waveforms, to observe amplitude and temporal patterns;\n",
    "- Generation and analysis of spectograms to explore frequency content;\n",
    "- Compute basic descriptive statistics (e.g., mean duration, sampling rate);\n",
    "- Identification of potential data quality issues (e.g., noise, silent segments, imbalance)."
   ]
  },
  {
   "cell_type": "markdown",
   "id": "220a83d3",
   "metadata": {},
   "source": [
    "## 1.1. Inspection of the dataset composition"
   ]
  },
  {
   "cell_type": "code",
   "execution_count": null,
   "id": "9a8eb53b",
   "metadata": {},
   "outputs": [],
   "source": []
  },
  {
   "cell_type": "markdown",
   "id": "668a5aa1",
   "metadata": {},
   "source": [
    "## 1.2. Visualization of waveforms, to observe amplitude and temporal patterns"
   ]
  },
  {
   "cell_type": "code",
   "execution_count": null,
   "id": "72e74f56",
   "metadata": {},
   "outputs": [],
   "source": []
  },
  {
   "cell_type": "markdown",
   "id": "5374aaeb",
   "metadata": {},
   "source": [
    "## 1.3. Generation and analysis of spectograms to explore frequency content"
   ]
  },
  {
   "cell_type": "code",
   "execution_count": null,
   "id": "8c9c9a2c",
   "metadata": {},
   "outputs": [],
   "source": []
  },
  {
   "cell_type": "markdown",
   "id": "b67f14a2",
   "metadata": {},
   "source": [
    "## 1.4. Compute basic descriptive statistics"
   ]
  },
  {
   "cell_type": "code",
   "execution_count": null,
   "id": "fc180052",
   "metadata": {},
   "outputs": [],
   "source": []
  },
  {
   "cell_type": "markdown",
   "id": "9f2f1ec0",
   "metadata": {},
   "source": [
    "## 1.5 Identification of potential data quality issues"
   ]
  },
  {
   "cell_type": "code",
   "execution_count": null,
   "id": "0ae278af",
   "metadata": {},
   "outputs": [],
   "source": []
  }
 ],
 "metadata": {
  "kernelspec": {
   "display_name": "Python 3",
   "language": "python",
   "name": "python3"
  },
  "language_info": {
   "codemirror_mode": {
    "name": "ipython",
    "version": 3
   },
   "file_extension": ".py",
   "mimetype": "text/x-python",
   "name": "python",
   "nbconvert_exporter": "python",
   "pygments_lexer": "ipython3",
   "version": "3.12.6"
  }
 },
 "nbformat": 4,
 "nbformat_minor": 5
}
